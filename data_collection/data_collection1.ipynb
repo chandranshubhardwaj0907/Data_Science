{
 "cells": [
  {
   "cell_type": "code",
   "execution_count": 2,
   "id": "2e4bdb0c",
   "metadata": {},
   "outputs": [],
   "source": [
    "#  \"Garbage In, Garbage Out\""
   ]
  },
  {
   "cell_type": "code",
   "execution_count": 1,
   "id": "f5f315ed",
   "metadata": {},
   "outputs": [],
   "source": [
    "# APIs provide structured access to real-time information, such as weather or stock data.\n",
    "# Databases (both SQL and NoSQL) house large volumes of structured data.\n",
    "# Webpages offer valuable unstructured data from blogs, e-commerce platforms, and more.\n",
    "# Files like CSV, JSON, and Excel sheets serve as local or cloud-based data repositories.\n",
    "# Sensors and logs provide real-time inputs from IoT devices and application events."
   ]
  },
  {
   "cell_type": "code",
   "execution_count": 3,
   "id": "f93997b7",
   "metadata": {},
   "outputs": [],
   "source": [
    "# APIs (REST or GraphQL) for structured, remote data access.\n",
    "# Web Scraping using tools like BeautifulSoup, Scrapy, or Selenium for HTML parsing.\n",
    "# Webhooks for event-based data (e.g., payment notifications).\n",
    "# Manual methods like forms or surveys for crowd-sourced insights.\n",
    "# File handling with Python libraries such as pandas, csv, and json."
   ]
  },
  {
   "cell_type": "code",
   "execution_count": 4,
   "id": "2bc59d3d",
   "metadata": {},
   "outputs": [],
   "source": [
    "# Data collection is more than just gathering information—it’s about doing so responsibly, efficiently, and with the right tools. Python stands out as a versatile language, offering powerful libraries for virtually every type of data source. Mastering these techniques lays a strong foundation for any data science project."
   ]
  },
  {
   "cell_type": "code",
   "execution_count": null,
   "id": "463ac7be",
   "metadata": {},
   "outputs": [],
   "source": []
  }
 ],
 "metadata": {
  "kernelspec": {
   "display_name": "base",
   "language": "python",
   "name": "python3"
  },
  "language_info": {
   "codemirror_mode": {
    "name": "ipython",
    "version": 3
   },
   "file_extension": ".py",
   "mimetype": "text/x-python",
   "name": "python",
   "nbconvert_exporter": "python",
   "pygments_lexer": "ipython3",
   "version": "3.12.7"
  }
 },
 "nbformat": 4,
 "nbformat_minor": 5
}
