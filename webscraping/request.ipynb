{
 "cells": [
  {
   "cell_type": "code",
   "execution_count": 1,
   "id": "4c1d9681",
   "metadata": {},
   "outputs": [
    {
     "name": "stdout",
     "output_type": "stream",
     "text": [
      "Requirement already satisfied: requests in c:\\users\\hp\\anaconda3\\lib\\site-packages (2.32.3)\n",
      "Requirement already satisfied: charset-normalizer<4,>=2 in c:\\users\\hp\\anaconda3\\lib\\site-packages (from requests) (3.3.2)\n",
      "Requirement already satisfied: idna<4,>=2.5 in c:\\users\\hp\\anaconda3\\lib\\site-packages (from requests) (3.7)\n",
      "Requirement already satisfied: urllib3<3,>=1.21.1 in c:\\users\\hp\\anaconda3\\lib\\site-packages (from requests) (2.2.3)\n",
      "Requirement already satisfied: certifi>=2017.4.17 in c:\\users\\hp\\anaconda3\\lib\\site-packages (from requests) (2025.4.26)\n",
      "Note: you may need to restart the kernel to use updated packages.\n"
     ]
    }
   ],
   "source": [
    "pip install requests"
   ]
  },
  {
   "cell_type": "code",
   "execution_count": 3,
   "id": "8e491d77",
   "metadata": {},
   "outputs": [
    {
     "name": "stdout",
     "output_type": "stream",
     "text": [
      "Page fetched successfully!\n",
      "<!doctype html>\n",
      "<html>\n",
      "<head>\n",
      "    <title>Example Domain</title>\n",
      "\n",
      "    <meta charset=\"utf-8\" />\n",
      "    <meta http-equiv=\"Content-type\" content=\"text/html; charset=utf-8\" />\n",
      "    <meta name=\"viewport\" content=\"width=device-width, initial-scale=1\" />\n",
      "    <style type=\"text/css\">\n",
      "    body {\n",
      "        background-color: #f0f0f2;\n",
      "        margin: 0;\n",
      "        padding: 0;\n",
      "        font-family: -apple-system, system-ui, BlinkMacSystemFont, \"Segoe UI\", \"Open Sans\", \"Helvetica Neue\", Helvetica, Arial, sans-serif;\n",
      "        \n",
      "    }\n",
      "    div {\n",
      "        width: 600px;\n",
      "        margin: 5em auto;\n",
      "        padding: 2em;\n",
      "        background-color: #fdfdff;\n",
      "        border-radius: 0.5em;\n",
      "        box-shadow: 2px 3px 7px 2px rgba(0,0,0,0.02);\n",
      "    }\n",
      "    a:link, a:visited {\n",
      "        color: #38488f;\n",
      "        text-decoration: none;\n",
      "    }\n",
      "    @media (max-width: 700px) {\n",
      "        div {\n",
      "            margin: 0 auto;\n",
      "            width: auto;\n",
      "        }\n",
      "    }\n",
      "    </style>    \n",
      "</head>\n",
      "\n",
      "<body>\n",
      "<div>\n",
      "    <h1>Example Domain</h1>\n",
      "    <p>This domain is for use in illustrative examples in documents. You may use this\n",
      "    domain in literature without prior coordination or asking for permission.</p>\n",
      "    <p><a href=\"https://www.iana.org/domains/example\">More information...</a></p>\n",
      "</div>\n",
      "</body>\n",
      "</html>\n",
      "\n"
     ]
    }
   ],
   "source": [
    "import requests\n",
    "\n",
    "url = \"https://example.com\"\n",
    "response = requests.get(url)\n",
    "\n",
    "# Print the HTML content\n",
    "if response.status_code == 200:\n",
    "    print(\"Page fetched successfully!\")\n",
    "else:\n",
    "    print(\"Failed to fetch the page.\")\n",
    "print(response.text)"
   ]
  },
  {
   "cell_type": "code",
   "execution_count": 8,
   "id": "0e28791c",
   "metadata": {},
   "outputs": [],
   "source": [
    "a = requests.get(\"https://books.toscrape.com/catalogue/page-1.html\")"
   ]
  },
  {
   "cell_type": "code",
   "execution_count": 14,
   "id": "8d6371cb",
   "metadata": {},
   "outputs": [
    {
     "name": "stdout",
     "output_type": "stream",
     "text": [
      "Page 1 saved successfully.\n",
      "Page 2 saved successfully.\n",
      "Page 3 saved successfully.\n",
      "Page 4 saved successfully.\n",
      "Page 5 saved successfully.\n",
      "Page 6 saved successfully.\n",
      "Page 7 saved successfully.\n",
      "Page 8 saved successfully.\n",
      "Page 9 saved successfully.\n",
      "Page 10 saved successfully.\n",
      "Page 11 saved successfully.\n",
      "Page 12 saved successfully.\n",
      "Page 13 saved successfully.\n",
      "Page 14 saved successfully.\n",
      "Page 15 saved successfully.\n",
      "Page 16 saved successfully.\n",
      "Page 17 saved successfully.\n",
      "Page 18 saved successfully.\n",
      "Page 19 saved successfully.\n",
      "Page 20 saved successfully.\n",
      "Page 21 saved successfully.\n",
      "Page 22 saved successfully.\n",
      "Page 23 saved successfully.\n",
      "Page 24 saved successfully.\n",
      "Page 25 saved successfully.\n",
      "Page 26 saved successfully.\n",
      "Page 27 saved successfully.\n",
      "Page 28 saved successfully.\n",
      "Page 29 saved successfully.\n",
      "Page 30 saved successfully.\n",
      "Page 31 saved successfully.\n",
      "Page 32 saved successfully.\n",
      "Page 33 saved successfully.\n",
      "Page 34 saved successfully.\n",
      "Page 35 saved successfully.\n",
      "Page 36 saved successfully.\n",
      "Page 37 saved successfully.\n",
      "Page 38 saved successfully.\n",
      "Page 39 saved successfully.\n",
      "Page 40 saved successfully.\n",
      "Page 41 saved successfully.\n",
      "Page 42 saved successfully.\n",
      "Page 43 saved successfully.\n",
      "Page 44 saved successfully.\n",
      "Page 45 saved successfully.\n",
      "Page 46 saved successfully.\n",
      "Page 47 saved successfully.\n",
      "Page 48 saved successfully.\n",
      "Page 49 saved successfully.\n",
      "Page 50 saved successfully.\n"
     ]
    }
   ],
   "source": [
    "import requests\n",
    "\n",
    "for i in range(1, 51):\n",
    "    url = f\"https://books.toscrape.com/catalogue/page-{i}.html\"\n",
    "    response = requests.get(url)\n",
    "\n",
    "    if response.status_code == 200:\n",
    "        with open(f\"htmls/page_{i}.html\", \"w\", encoding=\"utf-8\") as file:\n",
    "            file.write(response.text)\n",
    "        print(f\"Page {i} saved successfully.\")\n",
    "    else:\n",
    "        print(f\"Failed to retrieve page {i}\")\n"
   ]
  },
  {
   "cell_type": "code",
   "execution_count": 11,
   "id": "7f188945",
   "metadata": {},
   "outputs": [
    {
     "name": "stdout",
     "output_type": "stream",
     "text": [
      "Requirement already satisfied: beautifulsoup4 in c:\\users\\hp\\anaconda3\\lib\\site-packages (4.12.3)\n",
      "Requirement already satisfied: lxml in c:\\users\\hp\\anaconda3\\lib\\site-packages (5.2.1)\n",
      "Requirement already satisfied: soupsieve>1.2 in c:\\users\\hp\\anaconda3\\lib\\site-packages (from beautifulsoup4) (2.5)\n",
      "Note: you may need to restart the kernel to use updated packages.\n"
     ]
    }
   ],
   "source": [
    "pip install beautifulsoup4 lxml"
   ]
  },
  {
   "cell_type": "code",
   "execution_count": 12,
   "id": "72c3335f",
   "metadata": {},
   "outputs": [],
   "source": [
    "from bs4 import BeautifulSoup"
   ]
  },
  {
   "cell_type": "code",
   "execution_count": 19,
   "id": "0a30ee35",
   "metadata": {},
   "outputs": [],
   "source": [
    "with open(\"./htmls/page_1.html\", \"r\", encoding=\"utf-8\") as f:\n",
    "    content = f.read()"
   ]
  },
  {
   "cell_type": "code",
   "execution_count": 21,
   "id": "49e9b98b",
   "metadata": {},
   "outputs": [],
   "source": [
    "soup = BeautifulSoup(content , \"html.parser\")"
   ]
  },
  {
   "cell_type": "code",
   "execution_count": null,
   "id": "d9a283d6",
   "metadata": {},
   "outputs": [],
   "source": [
    "h3s =soup.find_all(\"h3\")"
   ]
  },
  {
   "cell_type": "code",
   "execution_count": 28,
   "id": "16340cd7",
   "metadata": {},
   "outputs": [
    {
     "name": "stdout",
     "output_type": "stream",
     "text": [
      "A Light in the Attic\n",
      "Tipping the Velvet\n",
      "Soumission\n",
      "Sharp Objects\n",
      "Sapiens: A Brief History of Humankind\n",
      "The Requiem Red\n",
      "The Dirty Little Secrets of Getting Your Dream Job\n",
      "The Coming Woman: A Novel Based on the Life of the Infamous Feminist, Victoria Woodhull\n",
      "The Boys in the Boat: Nine Americans and Their Epic Quest for Gold at the 1936 Berlin Olympics\n",
      "The Black Maria\n",
      "Starving Hearts (Triangular Trade Trilogy, #1)\n",
      "Shakespeare's Sonnets\n",
      "Set Me Free\n",
      "Scott Pilgrim's Precious Little Life (Scott Pilgrim #1)\n",
      "Rip it Up and Start Again\n",
      "Our Band Could Be Your Life: Scenes from the American Indie Underground, 1981-1991\n",
      "Olio\n",
      "Mesaerion: The Best Science Fiction Stories 1800-1849\n",
      "Libertarianism for Beginners\n",
      "It's Only the Himalayas\n"
     ]
    }
   ],
   "source": [
    "soup = BeautifulSoup(content, \"html.parser\")\n",
    "h3s = soup.find_all(\"h3\")\n",
    "\n",
    "for h3 in h3s:\n",
    "    title = h3.find(\"a\")['title']\n",
    "    print(title)"
   ]
  },
  {
   "cell_type": "code",
   "execution_count": 33,
   "id": "c2ee6fe3",
   "metadata": {},
   "outputs": [],
   "source": [
    "articles = soup.find_all(\"article.product_pod\")"
   ]
  },
  {
   "cell_type": "code",
   "execution_count": 34,
   "id": "7b71904c",
   "metadata": {},
   "outputs": [],
   "source": [
    "for article in articles:\n",
    "    title = article.find(\"h3\").find(\"a\")['title']"
   ]
  },
  {
   "cell_type": "code",
   "execution_count": 35,
   "id": "02b60384",
   "metadata": {},
   "outputs": [
    {
     "data": {
      "text/plain": [
       "\"It's Only the Himalayas\""
      ]
     },
     "execution_count": 35,
     "metadata": {},
     "output_type": "execute_result"
    }
   ],
   "source": [
    "title"
   ]
  }
 ],
 "metadata": {
  "kernelspec": {
   "display_name": "base",
   "language": "python",
   "name": "python3"
  },
  "language_info": {
   "codemirror_mode": {
    "name": "ipython",
    "version": 3
   },
   "file_extension": ".py",
   "mimetype": "text/x-python",
   "name": "python",
   "nbconvert_exporter": "python",
   "pygments_lexer": "ipython3",
   "version": "3.12.7"
  }
 },
 "nbformat": 4,
 "nbformat_minor": 5
}
