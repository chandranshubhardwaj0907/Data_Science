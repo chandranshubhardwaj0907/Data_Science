{
 "cells": [
  {
   "cell_type": "code",
   "execution_count": 1,
   "id": "c31bbbf1",
   "metadata": {},
   "outputs": [
    {
     "name": "stdout",
     "output_type": "stream",
     "text": [
      "Requirement already satisfied: scikit-learn in c:\\users\\hp\\anaconda3\\lib\\site-packages (1.5.1)\n",
      "Requirement already satisfied: numpy>=1.19.5 in c:\\users\\hp\\anaconda3\\lib\\site-packages (from scikit-learn) (1.26.4)\n",
      "Requirement already satisfied: scipy>=1.6.0 in c:\\users\\hp\\anaconda3\\lib\\site-packages (from scikit-learn) (1.13.1)\n",
      "Requirement already satisfied: joblib>=1.2.0 in c:\\users\\hp\\anaconda3\\lib\\site-packages (from scikit-learn) (1.4.2)\n",
      "Requirement already satisfied: threadpoolctl>=3.1.0 in c:\\users\\hp\\anaconda3\\lib\\site-packages (from scikit-learn) (3.5.0)\n",
      "Note: you may need to restart the kernel to use updated packages.\n"
     ]
    }
   ],
   "source": [
    "pip install scikit-learn\n"
   ]
  },
  {
   "cell_type": "code",
   "execution_count": null,
   "id": "78e2c922",
   "metadata": {},
   "outputs": [
    {
     "name": "stdout",
     "output_type": "stream",
     "text": [
      "['apple']\n",
      "['apple']\n"
     ]
    }
   ],
   "source": [
    "from sklearn import tree\n",
    "\n",
    "# Features: [weight (grams), skin_texture (0=smooth, 1=bumpy), color (0=red, 1=orange, 2=green)]\n",
    "features = [\n",
    "    [140, 0, 0], [150, 0, 0], [160, 0, 0], [145, 0, 2], [155, 0, 2],\n",
    "    [130, 1, 1], [135, 1, 1], [120, 1, 1], [125, 1, 1], [140, 1, 1],\n",
    "    [165, 0, 0], [170, 0, 0], [180, 0, 2], [190, 0, 0], [185, 0, 2],\n",
    "    [110, 1, 1], [100, 1, 1], [105, 1, 1], [115, 1, 1], [108, 1, 1],\n",
    "    [175, 0, 0], [160, 0, 2], [150, 0, 0], [145, 0, 2], [135, 0, 2],\n",
    "    [120, 1, 1], [125, 1, 1], [130, 1, 1], [128, 1, 1], [115, 1, 1],\n",
    "    [142, 0, 0], [158, 0, 0], [168, 0, 2], [152, 0, 0], [148, 0, 2],\n",
    "    [118, 1, 1], [108, 1, 1], [112, 1, 1], [126, 1, 1], [134, 1, 1],\n",
    "    [155, 0, 0], [165, 0, 0], [175, 0, 2], [160, 0, 0], [170, 0, 2],\n",
    "    [125, 1, 1], [135, 1, 1], [110, 1, 1], [100, 1, 1], [120, 1, 1]\n",
    "]\n",
    "\n",
    "\n",
    "labels = [\"apple\"] * 25 + [\"orange\"] * 25\n",
    "\n",
    "\n",
    "clf = tree.DecisionTreeClassifier()\n",
    "clf = clf.fit(features, labels)\n",
    "\n",
    "\n",
    "print(clf.predict([[160, 0, 2]]))  \n",
    "print(clf.predict([[110, 1, 1]]))  \n"
   ]
  },
  {
   "cell_type": "code",
   "execution_count": null,
   "id": "d763b767",
   "metadata": {},
   "outputs": [],
   "source": []
  }
 ],
 "metadata": {
  "kernelspec": {
   "display_name": "base",
   "language": "python",
   "name": "python3"
  },
  "language_info": {
   "codemirror_mode": {
    "name": "ipython",
    "version": 3
   },
   "file_extension": ".py",
   "mimetype": "text/x-python",
   "name": "python",
   "nbconvert_exporter": "python",
   "pygments_lexer": "ipython3",
   "version": "3.12.7"
  }
 },
 "nbformat": 4,
 "nbformat_minor": 5
}
